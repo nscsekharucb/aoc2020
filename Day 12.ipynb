{
 "cells": [
  {
   "cell_type": "code",
   "execution_count": 80,
   "metadata": {},
   "outputs": [],
   "source": [
    "import aocd\n",
    "input_data = aocd.get_data(day=12)\n",
    "input_data = input_data.split('\\n')"
   ]
  },
  {
   "cell_type": "code",
   "execution_count": 103,
   "metadata": {},
   "outputs": [],
   "source": [
    "# input_data"
   ]
  },
  {
   "cell_type": "code",
   "execution_count": 73,
   "metadata": {},
   "outputs": [],
   "source": [
    "input_data = ['F10',\n",
    "'N3',\n",
    "'F7',\n",
    "'R90',\n",
    "'F11']"
   ]
  },
  {
   "cell_type": "code",
   "execution_count": 102,
   "metadata": {},
   "outputs": [
    {
     "data": {
      "text/plain": [
       "{'east': 2672, 'north': 2576, 'west': 3561, 'south': 2697}"
      ]
     },
     "execution_count": 102,
     "metadata": {},
     "output_type": "execute_result"
    }
   ],
   "source": [
    "instructions = {\n",
    "    'north' : {\n",
    "        'L90': 'west',\n",
    "        'L180': 'south',\n",
    "        'L270': 'east',\n",
    "        'R90': 'east',\n",
    "        'R180': 'south',\n",
    "        'R270': 'west'\n",
    "\n",
    "    },\n",
    "    'east' : {\n",
    "        'L90': 'north',\n",
    "        'L180': 'west',\n",
    "        'L270': 'south',\n",
    "        'R90': 'south',\n",
    "        'R180': 'west',\n",
    "        'R270': 'north'\n",
    "\n",
    "    },\n",
    "    'south' : {\n",
    "        'L90': 'east',\n",
    "        'L180': 'north',\n",
    "        'L270': 'west',\n",
    "        'R90': 'west',\n",
    "        'R180': 'north',\n",
    "        'R270': 'east'\n",
    "\n",
    "    },\n",
    "    'west' : {\n",
    "        'L90': 'south',\n",
    "        'L180': 'east',\n",
    "        'L270': 'north',\n",
    "        'R90': 'north',\n",
    "        'R180': 'east',\n",
    "        'R270': 'south'\n",
    "    }\n",
    "}\n",
    "coordinates = {'east': 0, 'north': 0, 'west': 0, 'south': 0}\n",
    "current_direction = 'east'\n",
    "\n",
    "\n",
    "for direction_steps in input_data:\n",
    "    direction = direction_steps[0]\n",
    "    steps = int(direction_steps[1:])\n",
    "    if direction == 'F':\n",
    "        coordinates[current_direction] += steps\n",
    "    elif direction in ['L', 'R']: \n",
    "        current_direction = instructions[current_direction][direction_steps]\n",
    "    elif direction == 'N':\n",
    "        coordinates['north'] += steps\n",
    "    elif direction == 'S':\n",
    "        coordinates['south'] += steps\n",
    "    elif direction == 'E':\n",
    "        coordinates['east'] += steps\n",
    "    elif direction == 'W':\n",
    "        coordinates['west'] += steps\n",
    "#     print(current_direction)\n",
    "#     print(coordinates)\n",
    "\n",
    "coordinates"
   ]
  },
  {
   "cell_type": "code",
   "execution_count": 18,
   "metadata": {},
   "outputs": [],
   "source": [
    "manhattan_distance = abs(coordinates['east'] - coordinates['west']) + abs(coordinates['north'] - coordinates['south'])"
   ]
  },
  {
   "cell_type": "code",
   "execution_count": 19,
   "metadata": {},
   "outputs": [
    {
     "data": {
      "text/plain": [
       "1010"
      ]
     },
     "execution_count": 19,
     "metadata": {},
     "output_type": "execute_result"
    }
   ],
   "source": [
    "manhattan_distance"
   ]
  },
  {
   "cell_type": "code",
   "execution_count": 20,
   "metadata": {},
   "outputs": [
    {
     "data": {
      "text/plain": [
       "{'east': 2672, 'north': 2576, 'west': 3561, 'south': 2697}"
      ]
     },
     "execution_count": 20,
     "metadata": {},
     "output_type": "execute_result"
    }
   ],
   "source": [
    "coordinates"
   ]
  },
  {
   "cell_type": "code",
   "execution_count": 21,
   "metadata": {},
   "outputs": [
    {
     "name": "stderr",
     "output_type": "stream",
     "text": [
      "answer a: None\n",
      "submitting for part a\n"
     ]
    },
    {
     "name": "stdout",
     "output_type": "stream",
     "text": [
      "\u001b[32mThat's the right answer!  You are one gold star closer to saving your vacation. [Continue to Part Two]\u001b[0m\n"
     ]
    },
    {
     "data": {
      "text/plain": [
       "<Response [200]>"
      ]
     },
     "execution_count": 21,
     "metadata": {},
     "output_type": "execute_result"
    }
   ],
   "source": [
    "aocd.submit(manhattan_distance, day=12, year=2020)"
   ]
  },
  {
   "cell_type": "markdown",
   "metadata": {},
   "source": [
    "### PART 2"
   ]
  },
  {
   "cell_type": "code",
   "execution_count": 101,
   "metadata": {},
   "outputs": [
    {
     "data": {
      "text/plain": [
       "{'east': 151146, 'north': 165924, 'west': 191647, 'south': 153683}"
      ]
     },
     "execution_count": 101,
     "metadata": {},
     "output_type": "execute_result"
    }
   ],
   "source": [
    "instructions = {\n",
    "    'north' : {\n",
    "        'L90': 'west',\n",
    "        'L180': 'south',\n",
    "        'L270': 'east',\n",
    "        'R90': 'east',\n",
    "        'R180': 'south',\n",
    "        'R270': 'west'\n",
    "\n",
    "    },\n",
    "    'east' : {\n",
    "        'L90': 'north',\n",
    "        'L180': 'west',\n",
    "        'L270': 'south',\n",
    "        'R90': 'south',\n",
    "        'R180': 'west',\n",
    "        'R270': 'north'\n",
    "\n",
    "    },\n",
    "    'south' : {\n",
    "        'L90': 'east',\n",
    "        'L180': 'north',\n",
    "        'L270': 'west',\n",
    "        'R90': 'west',\n",
    "        'R180': 'north',\n",
    "        'R270': 'east'\n",
    "\n",
    "    },\n",
    "    'west' : {\n",
    "        'L90': 'south',\n",
    "        'L180': 'east',\n",
    "        'L270': 'north',\n",
    "        'R90': 'north',\n",
    "        'R180': 'east',\n",
    "        'R270': 'south'\n",
    "    }\n",
    "}\n",
    "waypoint = {'east': 10, 'north':1, 'west': 0, 'south': 0}\n",
    "coordinates = {'east': 0, 'north': 0, 'west': 0, 'south': 0}\n",
    "current_direction = 'east'\n",
    "\n",
    "def rotate_waypoint(angle):\n",
    "    new_waypoint = waypoint.copy()\n",
    "    for k,v in waypoint.items():\n",
    "        rotated_direction = instructions[k][angle]\n",
    "        new_waypoint[rotated_direction] = v\n",
    "    return new_waypoint\n",
    "\n",
    "def forward_coordinates(steps):\n",
    "    global coordinates\n",
    "    for k, v in coordinates.items():\n",
    "        if waypoint[k] != 0:\n",
    "            coordinates[k] = v + waypoint[k]*steps\n",
    "\n",
    "for direction_steps in input_data:\n",
    "    direction = direction_steps[0]\n",
    "    steps = int(direction_steps[1:])\n",
    "    if direction == 'F':\n",
    "        forward_coordinates(steps)\n",
    "    elif direction in ['L', 'R']: \n",
    "        waypoint = rotate_waypoint(direction_steps)\n",
    "    elif direction == 'N':\n",
    "        if waypoint['north'] > 0:\n",
    "            waypoint['north'] += steps\n",
    "        else:\n",
    "            result = waypoint['south'] - steps\n",
    "            if result < 0:\n",
    "                waypoint['north'] = -1 * result\n",
    "                waypoint['south'] = 0\n",
    "            else:\n",
    "                waypoint['south'] = result\n",
    "\n",
    "\n",
    "    elif direction == 'S':\n",
    "        if waypoint['south'] > 0:\n",
    "            waypoint['south'] += steps\n",
    "        else:\n",
    "            result = waypoint['north'] - steps\n",
    "            if result < 0:\n",
    "                waypoint['south'] = -1 * result\n",
    "                waypoint['north'] = 0\n",
    "            else:\n",
    "                waypoint['north'] = result\n",
    "\n",
    "    elif direction == 'E':\n",
    "        if waypoint['east'] > 0:\n",
    "            waypoint['east'] += steps\n",
    "        else:\n",
    "            result = waypoint['west'] - steps\n",
    "            if result < 0:\n",
    "                waypoint['east'] = -1 * result\n",
    "                waypoint['west'] = 0\n",
    "            else:\n",
    "                waypoint['west'] = result\n",
    "\n",
    "            \n",
    "    elif direction == 'W':\n",
    "        if waypoint['west'] > 0:\n",
    "            waypoint['west'] += steps\n",
    "        else:\n",
    "            result = waypoint['east'] - steps\n",
    "            if result < 0:\n",
    "                waypoint['west'] = -1 * result\n",
    "                waypoint['east'] = 0\n",
    "            else:\n",
    "                waypoint['east'] = result\n",
    "\n",
    "\n",
    "#     print(direction_steps)\n",
    "#     print(f'waypoint: {waypoint}')\n",
    "#     print(f'coordinates: {coordinates}')\n",
    "\n",
    "coordinates"
   ]
  },
  {
   "cell_type": "code",
   "execution_count": 87,
   "metadata": {},
   "outputs": [
    {
     "data": {
      "text/plain": [
       "52742"
      ]
     },
     "execution_count": 87,
     "metadata": {},
     "output_type": "execute_result"
    }
   ],
   "source": [
    "manhattan_distance = abs(coordinates['east'] - coordinates['west']) + abs(coordinates['north'] - coordinates['south'])\n",
    "manhattan_distance"
   ]
  },
  {
   "cell_type": "code",
   "execution_count": 88,
   "metadata": {},
   "outputs": [
    {
     "name": "stderr",
     "output_type": "stream",
     "text": [
      "answer a: 1010\n",
      "submitting for part b (part a is already completed)\n"
     ]
    },
    {
     "name": "stdout",
     "output_type": "stream",
     "text": [
      "\u001b[32mThat's the right answer!  You are one gold star closer to saving your vacation.You have completed Day 12! You can [Shareon\n",
      "  Twitter\n",
      "Mastodon] this victory or [Return to Your Advent Calendar].\u001b[0m\n"
     ]
    },
    {
     "data": {
      "text/plain": [
       "<Response [200]>"
      ]
     },
     "execution_count": 88,
     "metadata": {},
     "output_type": "execute_result"
    }
   ],
   "source": [
    "aocd.submit(manhattan_distance, day=12, year=2020)"
   ]
  },
  {
   "cell_type": "markdown",
   "metadata": {},
   "source": [
    "### Refactored Part 2"
   ]
  },
  {
   "cell_type": "code",
   "execution_count": 99,
   "metadata": {},
   "outputs": [],
   "source": [
    "rotations = {\n",
    "    'N': {'L90': 'W', 'L180': 'S', 'L270': 'E', 'R90': 'E', 'R180': 'S', 'R270': 'W'},\n",
    "    'E' : {'L90': 'N', 'L180': 'W', 'L270': 'S', 'R90': 'S', 'R180': 'W', 'R270': 'N'},\n",
    "    'S' : {'L90': 'E', 'L180': 'N', 'L270': 'W', 'R90': 'W', 'R180': 'N', 'R270': 'E'},\n",
    "    'W' : {'L90': 'S', 'L180': 'E', 'L270': 'N', 'R90': 'N', 'R180': 'E', 'R270': 'S'}\n",
    "}\n",
    "opposite = {'E': 'W', 'W': 'E', 'N': 'S', 'S': 'N'}\n",
    "waypoint = {'E': 10, 'N':1, 'W': 0, 'S': 0}\n",
    "coordinates = {'E': 0, 'N': 0, 'W': 0, 'S': 0}\n",
    "\n",
    "def rotate_waypoint(angle):\n",
    "    new_waypoint = waypoint.copy()\n",
    "    for k,v in waypoint.items():\n",
    "        rotated_direction = rotations[k][angle]\n",
    "        new_waypoint[rotated_direction] = v\n",
    "    return new_waypoint\n",
    "\n",
    "def forward_coordinates(steps):\n",
    "    for k, v in coordinates.items():\n",
    "        if waypoint[k] != 0:\n",
    "            coordinates[k] = v + waypoint[k]*steps\n",
    "\n",
    "def update_waypoint(direction, steps):\n",
    "    if waypoint[direction] > 0:\n",
    "        waypoint[direction] += steps\n",
    "    else:\n",
    "        update = waypoint[opposite[direction]] - steps\n",
    "        if update < 0:\n",
    "            waypoint[direction] = -1 * update\n",
    "            waypoint[opposite[direction]] = 0\n",
    "        else:\n",
    "            waypoint[opposite[direction]] = update\n",
    "        \n",
    "for direction_steps in input_data:\n",
    "    direction = direction_steps[0]\n",
    "    steps = int(direction_steps[1:])\n",
    "    if direction == 'F':\n",
    "        forward_coordinates(steps)\n",
    "    elif direction in ['L', 'R']: \n",
    "        waypoint = rotate_waypoint(direction_steps)\n",
    "    else:\n",
    "        update_waypoint(direction, steps)\n",
    "\n",
    "manhattan_distance = abs(coordinates['E'] - coordinates['W']) + abs(coordinates['N'] - coordinates['S'])\n"
   ]
  },
  {
   "cell_type": "code",
   "execution_count": 100,
   "metadata": {},
   "outputs": [
    {
     "data": {
      "text/plain": [
       "52742"
      ]
     },
     "execution_count": 100,
     "metadata": {},
     "output_type": "execute_result"
    }
   ],
   "source": [
    "manhattan_distance"
   ]
  },
  {
   "cell_type": "code",
   "execution_count": null,
   "metadata": {},
   "outputs": [],
   "source": []
  }
 ],
 "metadata": {
  "kernelspec": {
   "display_name": "Python 3",
   "language": "python",
   "name": "python3"
  },
  "language_info": {
   "codemirror_mode": {
    "name": "ipython",
    "version": 3
   },
   "file_extension": ".py",
   "mimetype": "text/x-python",
   "name": "python",
   "nbconvert_exporter": "python",
   "pygments_lexer": "ipython3",
   "version": "3.7.5"
  },
  "varInspector": {
   "cols": {
    "lenName": 16,
    "lenType": 16,
    "lenVar": 40
   },
   "kernels_config": {
    "python": {
     "delete_cmd_postfix": "",
     "delete_cmd_prefix": "del ",
     "library": "var_list.py",
     "varRefreshCmd": "print(var_dic_list())"
    },
    "r": {
     "delete_cmd_postfix": ") ",
     "delete_cmd_prefix": "rm(",
     "library": "var_list.r",
     "varRefreshCmd": "cat(var_dic_list()) "
    }
   },
   "types_to_exclude": [
    "module",
    "function",
    "builtin_function_or_method",
    "instance",
    "_Feature"
   ],
   "window_display": false
  }
 },
 "nbformat": 4,
 "nbformat_minor": 2
}
