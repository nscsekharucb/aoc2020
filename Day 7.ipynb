{
 "cells": [
  {
   "cell_type": "markdown",
   "metadata": {},
   "source": [
    "### Day 7\n"
   ]
  },
  {
   "cell_type": "code",
   "execution_count": 1,
   "metadata": {},
   "outputs": [],
   "source": [
    "import aocd\n",
    "input_data = aocd.get_data(day=7)\n",
    "input_data = input_data.split('\\n')"
   ]
  },
  {
   "cell_type": "code",
   "execution_count": 2,
   "metadata": {},
   "outputs": [],
   "source": [
    "# input_data"
   ]
  },
  {
   "cell_type": "code",
   "execution_count": 38,
   "metadata": {},
   "outputs": [],
   "source": [
    "sg_containers = 0\n",
    "sg_container_list = []\n",
    "\n",
    "for rule in input_data:\n",
    "    parts = rule.split('contain')\n",
    "    if 'shiny gold' in parts[1]:\n",
    "        sg_containers += 1\n",
    "        sg_container_list.append(parts[0].split('bags')[0].strip())"
   ]
  },
  {
   "cell_type": "code",
   "execution_count": 39,
   "metadata": {},
   "outputs": [
    {
     "name": "stdout",
     "output_type": "stream",
     "text": [
      "['mirrored green', 'wavy green', 'dim violet', 'plaid white']\n"
     ]
    }
   ],
   "source": [
    "print(sg_container_list)"
   ]
  },
  {
   "cell_type": "code",
   "execution_count": 40,
   "metadata": {},
   "outputs": [],
   "source": [
    "import time"
   ]
  },
  {
   "cell_type": "code",
   "execution_count": 3,
   "metadata": {},
   "outputs": [],
   "source": [
    "def get_container_details(container_name):\n",
    "    global sg_containers\n",
    "    global sg_container_list\n",
    "    global visited_dict\n",
    "#     print(container_name)\n",
    "#     time.sleep(1)\n",
    "    if container_name in visited_dict:\n",
    "        return\n",
    "    \n",
    "    for rule in input_data:\n",
    "        parts = rule.split('contain')\n",
    "        if container_name in parts[1]:\n",
    "            sg_containers.append(parts[0].split('bags')[0].strip())\n",
    "            visited_dict[container_name] = True\n",
    "            sg_container_list.append(parts[0].split('bags')[0].strip())"
   ]
  },
  {
   "cell_type": "code",
   "execution_count": 4,
   "metadata": {},
   "outputs": [],
   "source": [
    "sg_containers = []\n",
    "sg_container_list = ['shiny gold']\n",
    "visited_dict = {}\n",
    "while sg_container_list:\n",
    "#     print(sg_container_list)\n",
    "#     time.sleep(1)\n",
    "    get_container_details(container_name=sg_container_list.pop())"
   ]
  },
  {
   "cell_type": "code",
   "execution_count": 64,
   "metadata": {},
   "outputs": [
    {
     "data": {
      "text/plain": [
       "179"
      ]
     },
     "execution_count": 64,
     "metadata": {},
     "output_type": "execute_result"
    }
   ],
   "source": [
    "len(set(sg_containers))"
   ]
  },
  {
   "cell_type": "code",
   "execution_count": 57,
   "metadata": {},
   "outputs": [],
   "source": [
    "answer = len(set(sg_containers)) - 1"
   ]
  },
  {
   "cell_type": "code",
   "execution_count": 65,
   "metadata": {},
   "outputs": [
    {
     "name": "stderr",
     "output_type": "stream",
     "text": [
      "answer a: None\n",
      "submitting for part a\n"
     ]
    },
    {
     "name": "stdout",
     "output_type": "stream",
     "text": [
      "\u001b[32mThat's the right answer!  You are one gold star closer to saving your vacation. [Continue to Part Two]\u001b[0m\n"
     ]
    },
    {
     "data": {
      "text/plain": [
       "<Response [200]>"
      ]
     },
     "execution_count": 65,
     "metadata": {},
     "output_type": "execute_result"
    }
   ],
   "source": [
    "aocd.submit(len(set(sg_containers)), day=7, year=2020)"
   ]
  },
  {
   "cell_type": "markdown",
   "metadata": {},
   "source": [
    "### Part 2"
   ]
  },
  {
   "cell_type": "code",
   "execution_count": 5,
   "metadata": {},
   "outputs": [],
   "source": [
    "# input_data"
   ]
  },
  {
   "cell_type": "code",
   "execution_count": 13,
   "metadata": {},
   "outputs": [],
   "source": [
    "import re"
   ]
  },
  {
   "cell_type": "code",
   "execution_count": 14,
   "metadata": {},
   "outputs": [],
   "source": [
    "class Bag:\n",
    "    def __init__(self, color, own_count):\n",
    "        self.color = color\n",
    "        self.own_count = own_count\n",
    "        self.members = get_contained_details(color)\n",
    "    \n",
    "    def add_member(self, member):\n",
    "        self.members.append(member)\n",
    "        \n",
    "    def __repr__(self):\n",
    "        return f'{self.color} {self.own_count} {self.members}'\n",
    "        \n",
    "    def get_count(self):\n",
    "#         print(f\"Getting count {self.own_count} for {self.color}\")\n",
    "        member_count = 0\n",
    "        if len(self.members):\n",
    "            member_count = [member.get_count() for member in self.members]\n",
    "            member_count = sum(member_count)\n",
    "        return self.own_count * (1 + member_count)\n",
    "    "
   ]
  },
  {
   "cell_type": "code",
   "execution_count": 15,
   "metadata": {},
   "outputs": [],
   "source": [
    "def get_contained_details(color):\n",
    "    \n",
    "    contained_bags = []\n",
    "    \n",
    "    for rule in input_data:\n",
    "        parts = rule.split('contain')\n",
    "        if color in parts[0]:\n",
    "            contained_names = parts[1].split('bag')\n",
    "            for contained_name in contained_names:\n",
    "                try:\n",
    "                    bag_count = int(re.search(r'\\d+', contained_name).group())\n",
    "                    bag_color = contained_name.split(str(bag_count))[1].strip()\n",
    "#                     if len(color) > 5:\n",
    "                    bag = Bag(bag_color, bag_count)\n",
    "                    contained_bags.append(bag)\n",
    "                except:\n",
    "                    break\n",
    "    \n",
    "    return contained_bags\n"
   ]
  },
  {
   "cell_type": "code",
   "execution_count": 16,
   "metadata": {},
   "outputs": [],
   "source": [
    "bag = Bag('shiny gold', 1)"
   ]
  },
  {
   "cell_type": "code",
   "execution_count": 17,
   "metadata": {},
   "outputs": [
    {
     "data": {
      "text/plain": [
       "shiny gold 1 [drab olive 5 [dull gray 2 [clear yellow 4 [], vibrant silver 3 []]], pale green 4 [bright teal 3 [drab fuchsia 2 [dull bronze 5 [], clear chartreuse 1 [dark magenta 3 [], dull gray 3 [clear yellow 4 [], vibrant silver 3 []], dark silver 4 []]], light silver 5 [dark silver 4 [], faded olive 5 []], pale orange 1 [clear orange 2 [pale silver 4 []], vibrant aqua 3 [striped plum 4 [light blue 2 [], dull gray 4 [clear yellow 4 [], vibrant silver 3 []], wavy lavender 2 [dull bronze 1 [], dark silver 5 [], light blue 5 []]], dull gray 3 [clear yellow 4 [], vibrant silver 3 []], muted tomato 1 []]]], dim lime 3 [striped plum 4 [light blue 2 [], dull gray 4 [clear yellow 4 [], vibrant silver 3 []], wavy lavender 2 [dull bronze 1 [], dark silver 5 [], light blue 5 []]]], vibrant purple 2 [muted tomato 2 [], vibrant silver 4 [], drab olive 3 [dull gray 2 [clear yellow 4 [], vibrant silver 3 []]], dull gray 5 [clear yellow 4 [], vibrant silver 3 []]], light plum 5 [light blue 5 [], wavy brown 1 [drab fuchsia 5 [dull bronze 5 [], clear chartreuse 1 [dark magenta 3 [], dull gray 3 [clear yellow 4 [], vibrant silver 3 []], dark silver 4 []]], dull plum 1 [muted tomato 3 [], clear yellow 5 []]]]]]"
      ]
     },
     "execution_count": 17,
     "metadata": {},
     "output_type": "execute_result"
    }
   ],
   "source": [
    "bag"
   ]
  },
  {
   "cell_type": "code",
   "execution_count": 18,
   "metadata": {},
   "outputs": [],
   "source": [
    "answer2 = bag.get_count() - 1"
   ]
  },
  {
   "cell_type": "code",
   "execution_count": 19,
   "metadata": {},
   "outputs": [
    {
     "data": {
      "text/plain": [
       "18925"
      ]
     },
     "execution_count": 19,
     "metadata": {},
     "output_type": "execute_result"
    }
   ],
   "source": [
    "answer2"
   ]
  },
  {
   "cell_type": "code",
   "execution_count": 143,
   "metadata": {},
   "outputs": [
    {
     "name": "stderr",
     "output_type": "stream",
     "text": [
      "answer a: 179\n",
      "submitting for part b (part a is already completed)\n"
     ]
    },
    {
     "name": "stdout",
     "output_type": "stream",
     "text": [
      "\u001b[32mThat's the right answer!  You are one gold star closer to saving your vacation.You have completed Day 7! You can [Shareon\n",
      "  Twitter\n",
      "Mastodon] this victory or [Return to Your Advent Calendar].\u001b[0m\n"
     ]
    },
    {
     "data": {
      "text/plain": [
       "<Response [200]>"
      ]
     },
     "execution_count": 143,
     "metadata": {},
     "output_type": "execute_result"
    }
   ],
   "source": [
    "aocd.submit(answer2, day=7, year=2020)"
   ]
  }
 ],
 "metadata": {
  "kernelspec": {
   "display_name": "Python 3",
   "language": "python",
   "name": "python3"
  },
  "language_info": {
   "codemirror_mode": {
    "name": "ipython",
    "version": 3
   },
   "file_extension": ".py",
   "mimetype": "text/x-python",
   "name": "python",
   "nbconvert_exporter": "python",
   "pygments_lexer": "ipython3",
   "version": "3.7.5"
  },
  "varInspector": {
   "cols": {
    "lenName": 16,
    "lenType": 16,
    "lenVar": 40
   },
   "kernels_config": {
    "python": {
     "delete_cmd_postfix": "",
     "delete_cmd_prefix": "del ",
     "library": "var_list.py",
     "varRefreshCmd": "print(var_dic_list())"
    },
    "r": {
     "delete_cmd_postfix": ") ",
     "delete_cmd_prefix": "rm(",
     "library": "var_list.r",
     "varRefreshCmd": "cat(var_dic_list()) "
    }
   },
   "types_to_exclude": [
    "module",
    "function",
    "builtin_function_or_method",
    "instance",
    "_Feature"
   ],
   "window_display": false
  }
 },
 "nbformat": 4,
 "nbformat_minor": 2
}
