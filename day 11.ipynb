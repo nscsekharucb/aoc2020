{
 "cells": [
  {
   "cell_type": "code",
   "execution_count": 31,
   "metadata": {},
   "outputs": [],
   "source": [
    "import copy"
   ]
  },
  {
   "cell_type": "code",
   "execution_count": 113,
   "metadata": {},
   "outputs": [],
   "source": [
    "import aocd\n",
    "input_data = aocd.get_data(day=11)\n",
    "input_data = input_data.split('\\n')"
   ]
  },
  {
   "cell_type": "code",
   "execution_count": 120,
   "metadata": {},
   "outputs": [],
   "source": [
    "# input_data"
   ]
  },
  {
   "cell_type": "code",
   "execution_count": 65,
   "metadata": {},
   "outputs": [],
   "source": [
    "input_data = ['L.LL.LL.LL',\n",
    "'LLLLLLL.LL',\n",
    "'L.L.L..L..',\n",
    "'LLLL.LL.LL',\n",
    "'L.LL.LL.LL',\n",
    "'L.LLLLL.LL',\n",
    "'..L.L.....',\n",
    "'LLLLLLLLLL',\n",
    "'L.LLLLLL.L',\n",
    "'L.LLLLL.LL']"
   ]
  },
  {
   "cell_type": "code",
   "execution_count": 115,
   "metadata": {},
   "outputs": [],
   "source": [
    "def decode(char):\n",
    "    if char == 'L':\n",
    "        return 1\n",
    "    if char == '.':\n",
    "        return 0\n",
    "    else:\n",
    "        return 2\n",
    "\n",
    "int_data = [[0] * len(input_data[0])] * len(input_data)\n",
    "for i, string in enumerate(input_data):\n",
    "    int_data[i] = [decode(char) for char in string]"
   ]
  },
  {
   "cell_type": "code",
   "execution_count": 16,
   "metadata": {},
   "outputs": [],
   "source": [
    "orig_data = int_data.copy()"
   ]
  },
  {
   "cell_type": "code",
   "execution_count": 59,
   "metadata": {},
   "outputs": [],
   "source": [
    "def find_adjacents(row, col, input_seat_data):\n",
    "    adjacents = []\n",
    "\n",
    "    if row > 0 :\n",
    "        if col > 0:\n",
    "            adjacents.append(input_seat_data[row-1][col-1])\n",
    "\n",
    "        adjacents.append(input_seat_data[row-1][col])\n",
    "        \n",
    "        if col < len(input_seat_data[0]) - 1:\n",
    "            adjacents.append(input_seat_data[row-1][col+1])\n",
    "\n",
    "    if col > 0:\n",
    "        adjacents.append(input_seat_data[row][col-1])\n",
    "    if col < len(input_seat_data[0]) - 1:\n",
    "        adjacents.append(input_seat_data[row][col+1])\n",
    "\n",
    "    if row < len(input_seat_data) - 1:\n",
    "        if col > 0:\n",
    "            adjacents.append(input_seat_data[row+1][col-1])\n",
    "\n",
    "        adjacents.append(input_seat_data[row+1][col])\n",
    "        \n",
    "        if col < len(input_seat_data[0]) - 1:\n",
    "            adjacents.append(input_seat_data[row+1][col+1])\n",
    "\n",
    "#     print(adjacents)\n",
    "    return adjacents\n",
    "        \n",
    "\n",
    "def fill_seats(input_seat_data):\n",
    "    output_seat_data = copy.deepcopy(input_seat_data)\n",
    "    for i, row in enumerate(output_seat_data):\n",
    "        for j, col in enumerate(row):\n",
    "\n",
    "            if output_seat_data[i][j] == 0:\n",
    "                continue\n",
    "\n",
    "            adjacents = find_adjacents(i, j, input_seat_data)\n",
    "\n",
    "            if adjacents.count(2) == 0:\n",
    "                output_seat_data[i][j] = 2\n",
    "            if adjacents.count(2) >= 4:\n",
    "                output_seat_data[i][j] = 1\n",
    "\n",
    "    return output_seat_data\n",
    "\n",
    "def compare(first, second):\n",
    "    for i, row in enumerate(first):\n",
    "        if first[i] != second[i]:\n",
    "            return False\n",
    "    return True\n"
   ]
  },
  {
   "cell_type": "code",
   "execution_count": 124,
   "metadata": {},
   "outputs": [],
   "source": [
    "inp = copy.deepcopy(int_data)\n",
    "\n",
    "while True:\n",
    "    out = fill_seats(inp)\n",
    "    if compare(inp, out):\n",
    "        break\n",
    "    else:\n",
    "#         print('continuing')\n",
    "        inp = copy.deepcopy(out)\n",
    "        continue"
   ]
  },
  {
   "cell_type": "code",
   "execution_count": 61,
   "metadata": {},
   "outputs": [
    {
     "data": {
      "text/plain": [
       "2238"
      ]
     },
     "execution_count": 61,
     "metadata": {},
     "output_type": "execute_result"
    }
   ],
   "source": [
    "count_ones = 0\n",
    "for i, row in enumerate(out):\n",
    "    count_ones += row.count(2)\n",
    "count_ones"
   ]
  },
  {
   "cell_type": "code",
   "execution_count": 62,
   "metadata": {},
   "outputs": [
    {
     "name": "stderr",
     "output_type": "stream",
     "text": [
      "answer a: None\n",
      "submitting for part a\n"
     ]
    },
    {
     "name": "stdout",
     "output_type": "stream",
     "text": [
      "\u001b[32mThat's the right answer!  You are one gold star closer to saving your vacation. [Continue to Part Two]\u001b[0m\n"
     ]
    },
    {
     "data": {
      "text/plain": [
       "<Response [200]>"
      ]
     },
     "execution_count": 62,
     "metadata": {},
     "output_type": "execute_result"
    }
   ],
   "source": [
    "aocd.submit(count_ones, day=11, year=2020)"
   ]
  },
  {
   "cell_type": "code",
   "execution_count": 109,
   "metadata": {},
   "outputs": [],
   "source": [
    "def validate_coordinates(row, col, input_seat_data):\n",
    "    if row < 0 or row > (len(input_seat_data) - 1):\n",
    "        return False\n",
    "    if col < 0 or col > (len(input_seat_data[0]) - 1):\n",
    "        return False\n",
    "    return True\n",
    "    \n",
    "def find_adjacent_counts(row, col, input_seat_data):\n",
    "    adjacents = 0\n",
    "    \n",
    "    curr_row = row - 1\n",
    "    curr_col = col - 1\n",
    "    while True:\n",
    "        if validate_coordinates(curr_row, curr_col, input_seat_data):\n",
    "            if input_seat_data[curr_row][curr_col] != 0:\n",
    "                if input_seat_data[curr_row][curr_col] == 2:\n",
    "                    adjacents += 1\n",
    "\n",
    "                break\n",
    "            else:\n",
    "                curr_row = curr_row - 1\n",
    "                curr_col = curr_col - 1\n",
    "                continue\n",
    "        else:\n",
    "            break\n",
    "    \n",
    "    curr_row = row + 1\n",
    "    curr_col = col + 1\n",
    "    while True:\n",
    "        if validate_coordinates(curr_row, curr_col, input_seat_data):\n",
    "            if input_seat_data[curr_row][curr_col] != 0:\n",
    "                if input_seat_data[curr_row][curr_col] == 2:\n",
    "                    adjacents += 1\n",
    "\n",
    "                break\n",
    "            else:\n",
    "                curr_row = curr_row + 1\n",
    "                curr_col = curr_col + 1\n",
    "                continue\n",
    "        else:\n",
    "            break\n",
    "\n",
    "    curr_row = row + 1\n",
    "    curr_col = col - 1\n",
    "    while True:\n",
    "        if validate_coordinates(curr_row, curr_col, input_seat_data):\n",
    "            if input_seat_data[curr_row][curr_col] != 0:\n",
    "                if input_seat_data[curr_row][curr_col] == 2:\n",
    "                    adjacents += 1\n",
    "\n",
    "                break\n",
    "            else:\n",
    "                curr_row = curr_row + 1\n",
    "                curr_col = curr_col - 1\n",
    "                continue\n",
    "        else:\n",
    "            break\n",
    "\n",
    "    curr_row = row - 1\n",
    "    curr_col = col + 1\n",
    "    while True:\n",
    "        if validate_coordinates(curr_row, curr_col, input_seat_data):\n",
    "            if input_seat_data[curr_row][curr_col] != 0:\n",
    "                if input_seat_data[curr_row][curr_col] == 2:\n",
    "                    adjacents += 1\n",
    "\n",
    "                break\n",
    "            else:\n",
    "                curr_row = curr_row - 1\n",
    "                curr_col = curr_col + 1\n",
    "                continue\n",
    "        else:\n",
    "            break\n",
    "\n",
    "    curr_row = row - 1\n",
    "    curr_col = col\n",
    "    while True:\n",
    "        if validate_coordinates(curr_row, curr_col, input_seat_data):\n",
    "            if input_seat_data[curr_row][curr_col] != 0:\n",
    "                if input_seat_data[curr_row][curr_col] == 2:\n",
    "                    adjacents += 1\n",
    "\n",
    "                break\n",
    "            else:\n",
    "                curr_row = curr_row - 1\n",
    "                curr_col = curr_col\n",
    "                continue\n",
    "        else:\n",
    "            break\n",
    "\n",
    "    curr_row = row + 1\n",
    "    curr_col = col\n",
    "    while True:\n",
    "        if validate_coordinates(curr_row, curr_col, input_seat_data):\n",
    "            if input_seat_data[curr_row][curr_col] != 0:\n",
    "                if input_seat_data[curr_row][curr_col] == 2:\n",
    "                    adjacents += 1\n",
    "                break\n",
    "            else:\n",
    "                curr_row = curr_row + 1\n",
    "                curr_col = curr_col\n",
    "                continue\n",
    "        else:\n",
    "            break\n",
    "\n",
    "    curr_row = row\n",
    "    curr_col = col - 1\n",
    "    while True:\n",
    "        if validate_coordinates(curr_row, curr_col, input_seat_data):\n",
    "            if input_seat_data[curr_row][curr_col] != 0:\n",
    "                if input_seat_data[curr_row][curr_col] == 2:\n",
    "                    adjacents += 1\n",
    "                break\n",
    "            else:\n",
    "                curr_row = curr_row\n",
    "                curr_col = curr_col - 1\n",
    "                continue\n",
    "        else:\n",
    "            break\n",
    "\n",
    "\n",
    "    curr_row = row\n",
    "    curr_col = col + 1\n",
    "    while True:\n",
    "        if validate_coordinates(curr_row, curr_col, input_seat_data):\n",
    "            if input_seat_data[curr_row][curr_col] != 0:\n",
    "                if input_seat_data[curr_row][curr_col] == 2:\n",
    "                    adjacents += 1\n",
    "\n",
    "                break\n",
    "            else:\n",
    "                curr_row = curr_row\n",
    "                curr_col = curr_col + 1\n",
    "                continue\n",
    "        else:\n",
    "            break\n",
    "    \n",
    "#     print(f'adjacents: {adjacents}')\n",
    "    \n",
    "    return adjacents\n",
    "        \n",
    "\n",
    "def fill_seats_partb(input_seat_data):\n",
    "    output_seat_data = copy.deepcopy(input_seat_data)\n",
    "    for i, row in enumerate(output_seat_data):\n",
    "        for j, col in enumerate(row):\n",
    "\n",
    "            if output_seat_data[i][j] == 0:\n",
    "                continue\n",
    "\n",
    "            adjacent_counts = find_adjacent_counts(i, j, input_seat_data)\n",
    "\n",
    "            if adjacent_counts == 0:\n",
    "                output_seat_data[i][j] = 2\n",
    "            if adjacent_counts >= 5:\n",
    "                output_seat_data[i][j] = 1\n",
    "\n",
    "    return output_seat_data\n",
    "\n",
    "def compare(first, second):\n",
    "    for i, row in enumerate(first):\n",
    "        if first[i] != second[i]:\n",
    "            return False\n",
    "    return True\n",
    "\n",
    "def print_2d(array):\n",
    "    for i, row in enumerate(array):\n",
    "        print(row)"
   ]
  },
  {
   "cell_type": "code",
   "execution_count": 123,
   "metadata": {},
   "outputs": [],
   "source": [
    "inp = copy.deepcopy(int_data)\n",
    "# print_2d(inp)\n",
    "# print('start')\n",
    "\n",
    "while True:\n",
    "    out = fill_seats_partb(inp)\n",
    "#     print_2d(out)\n",
    "    if compare(inp, out):\n",
    "        break\n",
    "    else:\n",
    "#         print('continuing')\n",
    "        inp = copy.deepcopy(out)\n",
    "        continue\n"
   ]
  },
  {
   "cell_type": "code",
   "execution_count": 118,
   "metadata": {},
   "outputs": [
    {
     "data": {
      "text/plain": [
       "2013"
      ]
     },
     "execution_count": 118,
     "metadata": {},
     "output_type": "execute_result"
    }
   ],
   "source": [
    "count_twos = 0\n",
    "for i, row in enumerate(out):\n",
    "    count_twos += row.count(2)\n",
    "count_twos"
   ]
  },
  {
   "cell_type": "code",
   "execution_count": 119,
   "metadata": {},
   "outputs": [
    {
     "name": "stderr",
     "output_type": "stream",
     "text": [
      "answer a: 2238\n",
      "submitting for part b (part a is already completed)\n"
     ]
    },
    {
     "name": "stdout",
     "output_type": "stream",
     "text": [
      "\u001b[32mThat's the right answer!  You are one gold star closer to saving your vacation.You have completed Day 11! You can [Shareon\n",
      "  Twitter\n",
      "Mastodon] this victory or [Return to Your Advent Calendar].\u001b[0m\n"
     ]
    },
    {
     "data": {
      "text/plain": [
       "<Response [200]>"
      ]
     },
     "execution_count": 119,
     "metadata": {},
     "output_type": "execute_result"
    }
   ],
   "source": [
    "aocd.submit(count_twos, day=11, year=2020)"
   ]
  },
  {
   "cell_type": "code",
   "execution_count": null,
   "metadata": {},
   "outputs": [],
   "source": []
  }
 ],
 "metadata": {
  "kernelspec": {
   "display_name": "Python 3",
   "language": "python",
   "name": "python3"
  },
  "language_info": {
   "codemirror_mode": {
    "name": "ipython",
    "version": 3
   },
   "file_extension": ".py",
   "mimetype": "text/x-python",
   "name": "python",
   "nbconvert_exporter": "python",
   "pygments_lexer": "ipython3",
   "version": "3.7.5"
  },
  "varInspector": {
   "cols": {
    "lenName": 16,
    "lenType": 16,
    "lenVar": 40
   },
   "kernels_config": {
    "python": {
     "delete_cmd_postfix": "",
     "delete_cmd_prefix": "del ",
     "library": "var_list.py",
     "varRefreshCmd": "print(var_dic_list())"
    },
    "r": {
     "delete_cmd_postfix": ") ",
     "delete_cmd_prefix": "rm(",
     "library": "var_list.r",
     "varRefreshCmd": "cat(var_dic_list()) "
    }
   },
   "types_to_exclude": [
    "module",
    "function",
    "builtin_function_or_method",
    "instance",
    "_Feature"
   ],
   "window_display": false
  }
 },
 "nbformat": 4,
 "nbformat_minor": 2
}
