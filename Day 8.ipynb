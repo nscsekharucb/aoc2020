{
 "cells": [
  {
   "cell_type": "code",
   "execution_count": 1,
   "metadata": {},
   "outputs": [],
   "source": [
    "import aocd\n",
    "input_data = aocd.get_data(day=8)\n",
    "input_data = input_data.split('\\n')"
   ]
  },
  {
   "cell_type": "code",
   "execution_count": 2,
   "metadata": {},
   "outputs": [],
   "source": [
    "import time"
   ]
  },
  {
   "cell_type": "code",
   "execution_count": 3,
   "metadata": {},
   "outputs": [],
   "source": [
    "# input_data"
   ]
  },
  {
   "cell_type": "code",
   "execution_count": 4,
   "metadata": {},
   "outputs": [],
   "source": [
    "accumulated_value = 0\n",
    "\n",
    "def execute(current_offset):\n",
    "    global accumulated_value\n",
    "    global input_data\n",
    "    \n",
    "    instruction = input_data[current_offset]    \n",
    "    opcode, add_sub_value = instruction.split(' ')\n",
    "    add_sub = add_sub_value[0]\n",
    "    value = int(add_sub_value[1:])\n",
    "    \n",
    "    if opcode == 'nop':\n",
    "        next_offset = current_offset + 1\n",
    "        return next_offset\n",
    "    \n",
    "    if opcode == 'acc':\n",
    "        next_offset = current_offset + 1\n",
    "        if add_sub == '+':\n",
    "            accumulated_value += value\n",
    "        else:\n",
    "            accumulated_value -= value\n",
    "        \n",
    "        return next_offset\n",
    "\n",
    "    if opcode == 'jmp':\n",
    "        if add_sub == '+':\n",
    "            next_offset = current_offset + value\n",
    "        else:\n",
    "            next_offset = current_offset - value\n",
    "        \n",
    "        return next_offset\n"
   ]
  },
  {
   "cell_type": "code",
   "execution_count": 5,
   "metadata": {},
   "outputs": [],
   "source": [
    "def update_swap_loc(swap_offset):\n",
    "    opcode = input_data[swap_offset][:3]\n",
    "    rest = input_data[swap_offset][3:]\n",
    "    if opcode == 'nop':\n",
    "        input_data[swap_offset] = f'jmp{rest}'\n",
    "        return True\n",
    "    if opcode == 'jmp':\n",
    "        input_data[swap_offset] = f'nop{rest}'\n",
    "        return True\n",
    "    return False\n",
    "\n",
    "        "
   ]
  },
  {
   "cell_type": "code",
   "execution_count": 6,
   "metadata": {},
   "outputs": [],
   "source": [
    "def check_inf_loop():\n",
    "    offset = 0\n",
    "    visited_dict = {}\n",
    "    swap_offset = 0\n",
    "    global accumulated_value\n",
    "    accumulated_value = 0\n",
    "    \n",
    "    while True:\n",
    "        visited_dict[offset] = True\n",
    "        offset = execute(offset)\n",
    "        \n",
    "        if offset >= len(input_data):\n",
    "            return False\n",
    "        \n",
    "        if offset in visited_dict:\n",
    "            return True\n",
    "\n",
    "\n",
    "for swap_offset in range(len(input_data)):\n",
    "    update_swap_loc(swap_offset)\n",
    "    if check_inf_loop():\n",
    "        update_swap_loc(swap_offset) \n",
    "    else:\n",
    "        break\n",
    "    "
   ]
  },
  {
   "cell_type": "code",
   "execution_count": 7,
   "metadata": {},
   "outputs": [
    {
     "data": {
      "text/plain": [
       "1358"
      ]
     },
     "execution_count": 7,
     "metadata": {},
     "output_type": "execute_result"
    }
   ],
   "source": [
    "accumulated_value"
   ]
  },
  {
   "cell_type": "code",
   "execution_count": 42,
   "metadata": {},
   "outputs": [
    {
     "name": "stderr",
     "output_type": "stream",
     "text": [
      "answer a: 1337\n",
      "submitting for part b (part a is already completed)\n"
     ]
    },
    {
     "name": "stdout",
     "output_type": "stream",
     "text": [
      "\u001b[32mThat's the right answer!  You are one gold star closer to saving your vacation.You have completed Day 8! You can [Shareon\n",
      "  Twitter\n",
      "Mastodon] this victory or [Return to Your Advent Calendar].\u001b[0m\n"
     ]
    },
    {
     "data": {
      "text/plain": [
       "<Response [200]>"
      ]
     },
     "execution_count": 42,
     "metadata": {},
     "output_type": "execute_result"
    }
   ],
   "source": [
    "aocd.submit(accumulated_value, day=8, year=2020)"
   ]
  },
  {
   "cell_type": "code",
   "execution_count": null,
   "metadata": {},
   "outputs": [],
   "source": []
  }
 ],
 "metadata": {
  "kernelspec": {
   "display_name": "Python 3",
   "language": "python",
   "name": "python3"
  },
  "language_info": {
   "codemirror_mode": {
    "name": "ipython",
    "version": 3
   },
   "file_extension": ".py",
   "mimetype": "text/x-python",
   "name": "python",
   "nbconvert_exporter": "python",
   "pygments_lexer": "ipython3",
   "version": "3.7.5"
  },
  "varInspector": {
   "cols": {
    "lenName": 16,
    "lenType": 16,
    "lenVar": 40
   },
   "kernels_config": {
    "python": {
     "delete_cmd_postfix": "",
     "delete_cmd_prefix": "del ",
     "library": "var_list.py",
     "varRefreshCmd": "print(var_dic_list())"
    },
    "r": {
     "delete_cmd_postfix": ") ",
     "delete_cmd_prefix": "rm(",
     "library": "var_list.r",
     "varRefreshCmd": "cat(var_dic_list()) "
    }
   },
   "types_to_exclude": [
    "module",
    "function",
    "builtin_function_or_method",
    "instance",
    "_Feature"
   ],
   "window_display": false
  }
 },
 "nbformat": 4,
 "nbformat_minor": 2
}
